{
 "cells": [
  {
   "cell_type": "code",
   "execution_count": 1,
   "metadata": {},
   "outputs": [],
   "source": [
    "import numpy as np\n",
    "import math\n",
    "import random\n",
    "import re"
   ]
  },
  {
   "cell_type": "code",
   "execution_count": 2,
   "metadata": {},
   "outputs": [],
   "source": [
    "def arc(beg, end, details=100.):\n",
    "    xb, yb = beg\n",
    "    xe, ye = end\n",
    "    dx = xe - xb\n",
    "    dy = ye - yb\n",
    "    dist = (dx**2 + dy**2)**.5\n",
    "\n",
    "    arc_r = dist/2. + 300.\n",
    "\n",
    "    dist_center_x = xb + dx/2.\n",
    "    dist_center_y = yb + dy/2.\n",
    "\n",
    "    arc_x = dist_center_x - math.sqrt(arc_r**2-(dist/2.)**2)*dy/dist\n",
    "    arc_y = dist_center_y + math.sqrt(arc_r**2-(dist/2.)**2)*dx/dist\n",
    "\n",
    "    n_steps = 4+int(dist/details)\n",
    "\n",
    "    beg_angle = math.atan2(arc_y-yb, arc_x-xb)\n",
    "    end_angle = math.atan2(arc_y-ye, arc_x-xe)\n",
    "\n",
    "    line = []\n",
    "    for step in range(n_steps+1):\n",
    "        dist = abs(end_angle - beg_angle)\n",
    "        if dist > math.pi:\n",
    "            dist = 2*math.pi-dist\n",
    "        step_angle = beg_angle + dist*step/(n_steps)\n",
    "        \n",
    "        step_point_x = arc_x - arc_r*math.cos(step_angle)\n",
    "        step_point_y = arc_y - arc_r*math.sin(step_angle)\n",
    "\n",
    "        step_point = (step_point_x, step_point_y)\n",
    "        line.append(step_point)\n",
    "    return line"
   ]
  },
  {
   "cell_type": "code",
   "execution_count": 3,
   "metadata": {},
   "outputs": [],
   "source": [
    "def keyboardIOS7():\n",
    "    button_sz = (50, 75)\n",
    "\n",
    "    buttons = []\n",
    "\n",
    "    nex_pos_dist = 64\n",
    "\n",
    "    for i in range(7, nex_pos_dist*10, nex_pos_dist):\n",
    "        buttons.append((i, 25))\n",
    "\n",
    "    for i in range(38, nex_pos_dist*9, nex_pos_dist):\n",
    "        buttons.append((i, 133))\n",
    "\n",
    "    for i in range(103, nex_pos_dist*8, nex_pos_dist):\n",
    "        buttons.append((i, 240))\n",
    "\n",
    "    letters = 'qwertyuiopasdfghjklzxcvbnm'\n",
    "    return dict(zip(letters, zip(buttons, [button_sz for i in range(len(letters))])))"
   ]
  },
  {
   "cell_type": "code",
   "execution_count": 4,
   "metadata": {},
   "outputs": [],
   "source": [
    "def word_to_line(kbrd, word, randomness=0, details=10., max_points=1000):\n",
    "    word = re.sub(\"[^a-zA-Z]\", '', word).lower()\n",
    "    \n",
    "    fixed_word = []\n",
    "    prev = ''\n",
    "    for l in word:\n",
    "        if l != prev:\n",
    "            prev = l\n",
    "            fixed_word.append(l)\n",
    "\n",
    "    line = []\n",
    "    rnd = zip(np.random.randn(len(fixed_word)), np.random.randn(len(fixed_word)))\n",
    "    for letter, shift in zip(fixed_word, rnd):\n",
    "        pos, sz = kbrd[letter]\n",
    "        center = (pos[0] + sz[0]/2. + shift[0]*randomness, pos[1] + sz[0]/2. + shift[1]*randomness)\n",
    "        line.append(center)\n",
    "    \n",
    "    line_full = []\n",
    "    for beg, end in zip(line[:-1], line[1:]):\n",
    "        line_full.extend(arc(beg, end, details))\n",
    "    \n",
    "    if max_points < len(line_full):\n",
    "        line_full = [line_full[i] for i in sorted(random.sample(range(len(line_full)), max_points))]\n",
    "        \n",
    "    return line_full"
   ]
  },
  {
   "cell_type": "code",
   "execution_count": 5,
   "metadata": {},
   "outputs": [],
   "source": [
    "def generate_input(word, n_points):\n",
    "    details = 0.05*len(word)\n",
    "    l = word_to_line(kbrd, word, randomness=10, details=details, max_points=n_points)\n",
    "    letters = list()\n",
    "    for x, y in l:\n",
    "        if x <= km.shape[0] and y <= km.shape[1]:\n",
    "            letters.append(km[x, y])\n",
    "        else:\n",
    "            letters.append(-1)\n",
    "    lx, ly = zip(*l)\n",
    "    return np.array(zip(lx, ly, letters), dtype=np.short)"
   ]
  },
  {
   "cell_type": "code",
   "execution_count": 6,
   "metadata": {},
   "outputs": [],
   "source": [
    "def generate_dataset_words(input_text, char_ind, n_points=100, max_letters=20):\n",
    "    words = [\n",
    "        w for w in input_text.split()\n",
    "        if len(w.translate(None, \"'-\")) > 1\n",
    "        and len(set(w)) > 1\n",
    "        and len(w) <= max_letters\n",
    "    ]\n",
    "    \n",
    "    input_len = sum([len(w) for w in words]) + len(words)\n",
    "\n",
    "    X = np.zeros((len(words), n_points, 3), dtype=np.short)\n",
    "    y = np.zeros((len(words), max_letters, n_chars), dtype=np.bool)\n",
    "\n",
    "    shift = 0\n",
    "    for word, w_pos in zip(words, range(len(words))):\n",
    "        try:\n",
    "            line = generate_input(word, n_points)\n",
    "            X[w_pos] = line\n",
    "            out = word + ' '*(max_letters-len(word))\n",
    "            for char, c_pos in zip(out, range(len(out))):\n",
    "                y[w_pos, c_pos, char_ind[char]] = 1\n",
    "        except Exception:\n",
    "            print(word)\n",
    "            raise\n",
    "        \n",
    "    return X, y"
   ]
  },
  {
   "cell_type": "code",
   "execution_count": null,
   "metadata": {},
   "outputs": [],
   "source": []
  }
 ],
 "metadata": {
  "kernelspec": {
   "display_name": "Python 3",
   "language": "python",
   "name": "python3"
  },
  "language_info": {
   "codemirror_mode": {
    "name": "ipython",
    "version": 3
   },
   "file_extension": ".py",
   "mimetype": "text/x-python",
   "name": "python",
   "nbconvert_exporter": "python",
   "pygments_lexer": "ipython3",
   "version": "3.6.4"
  }
 },
 "nbformat": 4,
 "nbformat_minor": 2
}
