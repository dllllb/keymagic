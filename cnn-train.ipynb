{
 "cells": [
  {
   "cell_type": "code",
   "execution_count": 3,
   "metadata": {},
   "outputs": [],
   "source": [
    "train_data = 'tiny-shakespeare.txt'\n",
    "n_points = 100\n",
    "n_chars = 27\n",
    "max_letters = 20\n",
    "\n",
    "import common\n",
    "\n",
    "kbrd = common.keyboardIOS7()\n",
    "x, y = common.generate_dataset_words(train_data, n_points, n_chars, max_letters, kbrd)"
   ]
  },
  {
   "cell_type": "code",
   "execution_count": 5,
   "metadata": {},
   "outputs": [],
   "source": [
    "common.dump_dataset('generated-data.hdf', x, y)"
   ]
  },
  {
   "cell_type": "code",
   "execution_count": 6,
   "metadata": {},
   "outputs": [
    {
     "name": "stderr",
     "output_type": "stream",
     "text": [
      "2022-06-23 21:21:52.112432: I tensorflow/core/platform/cpu_feature_guard.cc:193] This TensorFlow binary is optimized with oneAPI Deep Neural Network Library (oneDNN) to use the following CPU instructions in performance-critical operations:  AVX2 FMA\n",
      "To enable them in other operations, rebuild TensorFlow with the appropriate compiler flags.\n"
     ]
    },
    {
     "name": "stdout",
     "output_type": "stream",
     "text": [
      "Epoch 1/10\n",
      "759/759 [==============================] - 24s 29ms/step - loss: 1.0813\n",
      "Epoch 2/10\n",
      "759/759 [==============================] - 22s 29ms/step - loss: 1.0770\n",
      "Epoch 3/10\n",
      "759/759 [==============================] - 22s 29ms/step - loss: 1.1194\n",
      "Epoch 4/10\n",
      "759/759 [==============================] - 22s 29ms/step - loss: 1.0921\n",
      "Epoch 5/10\n",
      "759/759 [==============================] - 22s 29ms/step - loss: 0.7826\n",
      "Epoch 6/10\n",
      "759/759 [==============================] - 22s 29ms/step - loss: 0.4965\n",
      "Epoch 7/10\n",
      "759/759 [==============================] - 22s 29ms/step - loss: 0.4489\n",
      "Epoch 8/10\n",
      "759/759 [==============================] - 22s 29ms/step - loss: 0.4268\n",
      "Epoch 9/10\n",
      "759/759 [==============================] - 22s 29ms/step - loss: 0.4140\n",
      "Epoch 10/10\n",
      "759/759 [==============================] - 22s 29ms/step - loss: 0.4062\n"
     ]
    }
   ],
   "source": [
    "from keras.models import Sequential\n",
    "from keras.layers import Dense, Activation, Flatten, RepeatVector, TimeDistributed\n",
    "from keras.layers import LSTM\n",
    "from keras.layers import Convolution1D, MaxPooling1D\n",
    "from keras.optimizers import RMSprop\n",
    "\n",
    "lr = .01\n",
    "nb_epoch = 10\n",
    "batch_size = 256\n",
    "\n",
    "model = Sequential()\n",
    "model.add(Convolution1D(8, 4, input_shape=(n_points, 3)))\n",
    "model.add(Activation('relu'))\n",
    "model.add(Convolution1D(8, 4))\n",
    "model.add(Activation('relu'))\n",
    "model.add(MaxPooling1D(pool_size=5))\n",
    "model.add(Convolution1D(1, 1))\n",
    "model.add(Flatten())\n",
    "model.add(RepeatVector(max_letters))\n",
    "model.add(LSTM(64, return_sequences=True))\n",
    "model.add(TimeDistributed(Dense(n_chars)))\n",
    "model.add(TimeDistributed(Activation('softmax')))\n",
    "\n",
    "model.compile(loss='categorical_crossentropy', optimizer=RMSprop(learning_rate=lr))\n",
    "\n",
    "hist = model.fit(x, y, batch_size=batch_size, epochs=nb_epoch)"
   ]
  },
  {
   "cell_type": "code",
   "execution_count": 10,
   "metadata": {},
   "outputs": [
    {
     "name": "stderr",
     "output_type": "stream",
     "text": [
      "WARNING:absl:Found untraced functions such as _jit_compiled_convolution_op, _jit_compiled_convolution_op, _jit_compiled_convolution_op, lstm_cell_layer_call_fn, lstm_cell_layer_call_and_return_conditional_losses while saving (showing 5 of 5). These functions will not be directly callable after loading.\n"
     ]
    },
    {
     "name": "stdout",
     "output_type": "stream",
     "text": [
      "INFO:tensorflow:Assets written to: keymagic-ts-10-epoch/assets\n"
     ]
    },
    {
     "name": "stderr",
     "output_type": "stream",
     "text": [
      "INFO:tensorflow:Assets written to: keymagic-ts-10-epoch/assets\n"
     ]
    }
   ],
   "source": [
    "model.save('keymagic-ts-10-epoch')"
   ]
  },
  {
   "cell_type": "code",
   "execution_count": null,
   "metadata": {},
   "outputs": [],
   "source": []
  }
 ],
 "metadata": {
  "kernelspec": {
   "display_name": "Python 3.8.0 ('keymagic-R59gwSpz')",
   "language": "python",
   "name": "python3"
  },
  "language_info": {
   "codemirror_mode": {
    "name": "ipython",
    "version": 3
   },
   "file_extension": ".py",
   "mimetype": "text/x-python",
   "name": "python",
   "nbconvert_exporter": "python",
   "pygments_lexer": "ipython3",
   "version": "3.8.0"
  },
  "orig_nbformat": 4,
  "vscode": {
   "interpreter": {
    "hash": "d32cf88ef87de7d34aa55fb55165c51b8f7f75e15ebee1aa261cc06c596049a6"
   }
  }
 },
 "nbformat": 4,
 "nbformat_minor": 2
}
