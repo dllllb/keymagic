{
 "cells": [
  {
   "cell_type": "code",
   "execution_count": 17,
   "metadata": {
    "collapsed": true
   },
   "outputs": [
    {
     "name": "stdout",
     "output_type": "stream",
     "text": [
      "The autoreload extension is already loaded. To reload it, use:\n",
      "  %reload_ext autoreload\n"
     ]
    }
   ],
   "source": [
    "%load_ext autoreload\n",
    "%autoreload 2\n",
    "\n",
    "import common\n",
    "import cnn"
   ]
  },
  {
   "cell_type": "code",
   "execution_count": 48,
   "metadata": {},
   "outputs": [
    {
     "name": "stdout",
     "output_type": "stream",
     "text": [
      "_________________________________________________________________\n",
      "Layer (type)                 Output Shape              Param #   \n",
      "=================================================================\n",
      "conv1d_7 (Conv1D)            (None, 97, 8)             104       \n",
      "_________________________________________________________________\n",
      "activation_6 (Activation)    (None, 97, 8)             0         \n",
      "_________________________________________________________________\n",
      "conv1d_8 (Conv1D)            (None, 94, 8)             264       \n",
      "_________________________________________________________________\n",
      "activation_7 (Activation)    (None, 94, 8)             0         \n",
      "_________________________________________________________________\n",
      "max_pooling1d_3 (MaxPooling1 (None, 18, 8)             0         \n",
      "_________________________________________________________________\n",
      "conv1d_9 (Conv1D)            (None, 18, 1)             9         \n",
      "_________________________________________________________________\n",
      "flatten_3 (Flatten)          (None, 18)                0         \n",
      "_________________________________________________________________\n",
      "repeat_vector_2 (RepeatVecto (None, 20, 18)            0         \n",
      "_________________________________________________________________\n",
      "lstm_2 (LSTM)                (None, 20, 64)            21248     \n",
      "_________________________________________________________________\n",
      "time_distributed_3 (TimeDist (None, 20, 26)            1690      \n",
      "_________________________________________________________________\n",
      "time_distributed_4 (TimeDist (None, 20, 26)            0         \n",
      "=================================================================\n",
      "Total params: 23,315\n",
      "Trainable params: 23,315\n",
      "Non-trainable params: 0\n",
      "_________________________________________________________________\n"
     ]
    }
   ],
   "source": [
    "cnn.model_cnn_lstm(cnn.init_props({})).summary()"
   ]
  },
  {
   "cell_type": "code",
   "execution_count": 72,
   "metadata": {
    "collapsed": true
   },
   "outputs": [
    {
     "name": "stdout",
     "output_type": "stream",
     "text": [
      "Epoch 1/1\n",
      "172/172 [==============================] - 2s 10ms/step - loss: 2.4252\n",
      "\n"
     ]
    }
   ],
   "source": [
    "cnn.test_cnn_lstm()"
   ]
  },
  {
   "cell_type": "code",
   "execution_count": null,
   "metadata": {},
   "outputs": [],
   "source": []
  }
 ],
 "metadata": {
  "kernelspec": {
   "display_name": "Python 3",
   "language": "python",
   "name": "python3"
  },
  "language_info": {
   "codemirror_mode": {
    "name": "ipython",
    "version": 3
   },
   "file_extension": ".py",
   "mimetype": "text/x-python",
   "name": "python",
   "nbconvert_exporter": "python",
   "pygments_lexer": "ipython3",
   "version": "3.6.4"
  }
 },
 "nbformat": 4,
 "nbformat_minor": 2
}
