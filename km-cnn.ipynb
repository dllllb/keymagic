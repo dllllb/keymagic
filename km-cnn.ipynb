{
 "cells": [
  {
   "cell_type": "code",
   "execution_count": 14,
   "metadata": {
    "collapsed": true
   },
   "outputs": [],
   "source": [
    "import matplotlib.pyplot as plt\n",
    "%matplotlib inline\n",
    "from PIL import Image, ImageDraw"
   ]
  },
  {
   "cell_type": "code",
   "execution_count": 1,
   "metadata": {},
   "outputs": [],
   "source": [
    "%run keymagic.py"
   ]
  },
  {
   "cell_type": "code",
   "execution_count": 5,
   "metadata": {},
   "outputs": [],
   "source": [
    "kbrd = keyboardIOS7()\n",
    "n_chars = len(kbrd)\n",
    "char_indices = dict((c, i) for i, c in enumerate(kbrd.keys()))\n",
    "indices_char = dict((i, c) for i, c in enumerate(kbrd.keys()))"
   ]
  },
  {
   "cell_type": "code",
   "execution_count": 17,
   "metadata": {
    "collapsed": true
   },
   "outputs": [],
   "source": [
    "with Image.open(keyboard_img) as im:\n",
    "    im_size_x, im_size_y = im.size\n",
    "\n",
    "with open('tiny-shakespeare.txt') as f:\n",
    "    text = f.read().lower()\n",
    "    \n",
    "clean_text = re.sub(\"[^a-zA-Z'-]\", ' ', text).lower()"
   ]
  },
  {
   "cell_type": "code",
   "execution_count": 15,
   "metadata": {
    "collapsed": true
   },
   "outputs": [],
   "source": [
    "n_points = 100\n",
    "max_letters = 20"
   ]
  },
  {
   "cell_type": "code",
   "execution_count": 324,
   "metadata": {},
   "outputs": [
    {
     "name": "stderr",
     "output_type": "stream",
     "text": [
      "/Users/dmitri/anaconda/lib/python2.7/site-packages/ipykernel/__main__.py:7: VisibleDeprecationWarning: using a non-integer number instead of an integer will result in an error in the future\n"
     ]
    },
    {
     "name": "stdout",
     "output_type": "stream",
     "text": [
      "CPU times: user 40min 36s, sys: 1min 10s, total: 41min 47s\n",
      "Wall time: 44min 17s\n"
     ]
    }
   ],
   "source": [
    "%%time\n",
    "X, y = generate_dataset_words(clean_text, n_points=n_points, max_letters=max_letters)"
   ]
  },
  {
   "cell_type": "code",
   "execution_count": 325,
   "metadata": {
    "collapsed": true
   },
   "outputs": [],
   "source": [
    "import h5py\n",
    "import os\n",
    "\n",
    "with h5py.File(os.path.expanduser('~/temp/keymagic-train-shakespeare.h5'), 'w') as f:\n",
    "    f.create_dataset('X', data=X, compression=\"gzip\")\n",
    "    f.create_dataset('y', data=y, compression=\"gzip\")"
   ]
  },
  {
   "cell_type": "code",
   "execution_count": 185,
   "metadata": {
    "collapsed": true
   },
   "outputs": [],
   "source": [
    "with h5py.File(os.path.expanduser('~/temp/keymagic-train-shakespeare.h5')) as f:\n",
    "    X = f['X'][:]\n",
    "    y = f['y'][:]"
   ]
  },
  {
   "cell_type": "code",
   "execution_count": 19,
   "metadata": {},
   "outputs": [
    {
     "name": "stdout",
     "output_type": "stream",
     "text": [
      "____________________________________________________________________________________________________\n",
      "Layer (type)                     Output Shape          Param #     Connected to                     \n",
      "====================================================================================================\n",
      "convolution1d_16 (Convolution1D) (None, 97, 8)         104         convolution1d_input_6[0][0]      \n",
      "____________________________________________________________________________________________________\n",
      "activation_12 (Activation)       (None, 97, 8)         0           convolution1d_16[0][0]           \n",
      "____________________________________________________________________________________________________\n",
      "convolution1d_17 (Convolution1D) (None, 94, 8)         264         activation_12[0][0]              \n",
      "____________________________________________________________________________________________________\n",
      "activation_13 (Activation)       (None, 94, 8)         0           convolution1d_17[0][0]           \n",
      "____________________________________________________________________________________________________\n",
      "maxpooling1d_6 (MaxPooling1D)    (None, 18, 8)         0           activation_13[0][0]              \n",
      "____________________________________________________________________________________________________\n",
      "convolution1d_18 (Convolution1D) (None, 18, 1)         9           maxpooling1d_6[0][0]             \n",
      "____________________________________________________________________________________________________\n",
      "flatten_6 (Flatten)              (None, 18)            0           convolution1d_18[0][0]           \n",
      "____________________________________________________________________________________________________\n",
      "repeatvector_6 (RepeatVector)    (None, 20, 18)        0           flatten_6[0][0]                  \n",
      "____________________________________________________________________________________________________\n",
      "lstm_6 (LSTM)                    (None, 20, 64)        21248       repeatvector_6[0][0]             \n",
      "____________________________________________________________________________________________________\n",
      "timedistributed_3 (TimeDistribute(None, 20, 29)        1885        lstm_6[0][0]                     \n",
      "____________________________________________________________________________________________________\n",
      "timedistributed_4 (TimeDistribute(None, 20, 29)        0           timedistributed_3[0][0]          \n",
      "====================================================================================================\n",
      "Total params: 23510\n",
      "____________________________________________________________________________________________________\n"
     ]
    }
   ],
   "source": [
    "from keras.models import Sequential\n",
    "from keras.layers import Dense, Activation, Dropout, Flatten, RepeatVector, TimeDistributed\n",
    "from keras.layers import LSTM\n",
    "from keras.layers import Convolution1D, MaxPooling1D\n",
    "from keras.optimizers import RMSprop\n",
    "\n",
    "model = Sequential()\n",
    "model.add(Convolution1D(8, 4, input_shape=(n_points, 3)))\n",
    "model.add(Activation('relu'))\n",
    "model.add(Convolution1D(8, 4))\n",
    "model.add(Activation('relu'))\n",
    "model.add(MaxPooling1D(pool_length=5))\n",
    "model.add(Convolution1D(1, 1))\n",
    "model.add(Flatten())\n",
    "model.add(RepeatVector(max_letters))\n",
    "model.add(LSTM(64, return_sequences=True))\n",
    "model.add(TimeDistributed(Dense(n_chars)))\n",
    "model.add(TimeDistributed(Activation('softmax')))\n",
    "\n",
    "model.compile(loss='categorical_crossentropy', optimizer=RMSprop(lr=0.01))\n",
    "\n",
    "model.summary()"
   ]
  },
  {
   "cell_type": "code",
   "execution_count": 327,
   "metadata": {},
   "outputs": [
    {
     "name": "stdout",
     "output_type": "stream",
     "text": [
      "Epoch 1/10\n",
      "194146/194146 [==============================] - 133s - loss: 0.6360   \n",
      "Epoch 2/10\n",
      "194146/194146 [==============================] - 132s - loss: 0.4796   \n",
      "Epoch 3/10\n",
      "194146/194146 [==============================] - 128s - loss: 0.4482   \n",
      "Epoch 4/10\n",
      "194146/194146 [==============================] - 145s - loss: 0.4326   \n",
      "Epoch 5/10\n",
      "194146/194146 [==============================] - 141s - loss: 0.4254   \n",
      "Epoch 6/10\n",
      "194146/194146 [==============================] - 151s - loss: 0.4173   \n",
      "Epoch 7/10\n",
      "194146/194146 [==============================] - 150s - loss: 0.4107   \n",
      "Epoch 8/10\n",
      "194146/194146 [==============================] - 153s - loss: 0.6307   \n",
      "Epoch 9/10\n",
      "194146/194146 [==============================] - 164s - loss: 0.5571   \n",
      "Epoch 10/10\n",
      "194146/194146 [==============================] - 136s - loss: 0.4074   \n"
     ]
    },
    {
     "data": {
      "text/plain": [
       "<keras.callbacks.History at 0x2258fe8d0>"
      ]
     },
     "execution_count": 327,
     "metadata": {},
     "output_type": "execute_result"
    }
   ],
   "source": [
    "model.fit(X, y, batch_size=256, nb_epoch=10)"
   ]
  },
  {
   "cell_type": "code",
   "execution_count": 337,
   "metadata": {},
   "outputs": [
    {
     "name": "stderr",
     "output_type": "stream",
     "text": [
      "/Users/dmitri/anaconda/lib/python2.7/site-packages/ipykernel/__main__.py:7: VisibleDeprecationWarning: using a non-integer number instead of an integer will result in an error in the future\n"
     ]
    },
    {
     "data": {
      "text/plain": [
       "'man'"
      ]
     },
     "execution_count": 337,
     "metadata": {},
     "output_type": "execute_result"
    }
   ],
   "source": [
    "l = generate_input('man', n_points)\n",
    "p = model.predict(np.array([l]))\n",
    "''.join([indices_char[ix] for ix in np.argmax(p[0], axis=1)]).strip()"
   ]
  },
  {
   "cell_type": "code",
   "execution_count": 361,
   "metadata": {},
   "outputs": [
    {
     "name": "stderr",
     "output_type": "stream",
     "text": [
      "/Users/dmitri/anaconda/lib/python2.7/site-packages/ipykernel/__main__.py:7: VisibleDeprecationWarning: using a non-integer number instead of an integer will result in an error in the future\n"
     ]
    },
    {
     "data": {
      "text/plain": [
       "'aay'"
      ]
     },
     "execution_count": 361,
     "metadata": {},
     "output_type": "execute_result"
    }
   ],
   "source": [
    "l = generate_input('say', n_points)\n",
    "p = model.predict(np.array([l]))\n",
    "''.join([indices_char[ix] for ix in np.argmax(p[0], axis=1)]).strip()"
   ]
  },
  {
   "cell_type": "code",
   "execution_count": 371,
   "metadata": {},
   "outputs": [
    {
     "name": "stderr",
     "output_type": "stream",
     "text": [
      "/Users/dmitri/anaconda/lib/python2.7/site-packages/ipykernel/__main__.py:7: VisibleDeprecationWarning: using a non-integer number instead of an integer will result in an error in the future\n"
     ]
    },
    {
     "data": {
      "text/plain": [
       "'cooiiann'"
      ]
     },
     "execution_count": 371,
     "metadata": {},
     "output_type": "execute_result"
    }
   ],
   "source": [
    "l = generate_input('citizen', n_points)\n",
    "p = model.predict(np.array([l]))\n",
    "''.join([indices_char[ix] for ix in np.argmax(p[0], axis=1)]).strip()"
   ]
  },
  {
   "cell_type": "code",
   "execution_count": 349,
   "metadata": {
    "collapsed": true
   },
   "outputs": [],
   "source": [
    "model.save('models/keymagic-ts-10-epoch.hdf')"
   ]
  },
  {
   "cell_type": "code",
   "execution_count": 350,
   "metadata": {
    "collapsed": true
   },
   "outputs": [],
   "source": [
    "from keras.models import load_model\n",
    "\n",
    "model = load_model('models/keymagic-ts-10-epoch.hdf')"
   ]
  },
  {
   "cell_type": "code",
   "execution_count": null,
   "metadata": {
    "collapsed": true
   },
   "outputs": [],
   "source": []
  }
 ],
 "metadata": {
  "kernelspec": {
   "display_name": "Python 3",
   "language": "python",
   "name": "python3"
  },
  "language_info": {
   "codemirror_mode": {
    "name": "ipython",
    "version": 3
   },
   "file_extension": ".py",
   "mimetype": "text/x-python",
   "name": "python",
   "nbconvert_exporter": "python",
   "pygments_lexer": "ipython3",
   "version": "3.6.3"
  }
 },
 "nbformat": 4,
 "nbformat_minor": 2
}
